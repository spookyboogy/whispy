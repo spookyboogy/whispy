{
  "cells": [
    {
      "cell_type": "markdown",
      "metadata": {
        "id": "view-in-github",
        "colab_type": "text"
      },
      "source": [
        "<a href=\"https://colab.research.google.com/github/spookyboogy/whispy/blob/master/notebooks/test_nb.ipynb\" target=\"_parent\"><img src=\"https://colab.research.google.com/assets/colab-badge.svg\" alt=\"Open In Colab\"/></a>"
      ]
    },
    {
      "cell_type": "code",
      "source": [
        "#@title Settings etc {display-mode: \"form\"}\n",
        "\n",
        "Save_to_drive = False #@param {type: \"boolean\"}\n",
        "Uploading_from_drive = True #@param {type: \"boolean\"}\n",
        "path_to_file = \"\" #@param {type:\"string\"}\n",
        "Use_test_audio = False #@param {type: \"boolean\"}\n",
        "\n",
        "\n",
        "import os\n",
        "from google.colab import drive, files, output\n",
        "\n",
        "if Save_to_drive or Uploading_from_drive:\n",
        "  try:\n",
        "    drive.mount('/content/drive')\n",
        "    user_drive = '/content/drive'\n",
        "    print(f'\\nSuccessfully connected to drive.\\n')\n",
        "  except:\n",
        "    user_drive = None\n",
        "    print(f'\\nNot using google drive.\\n')\n",
        "else:\n",
        "  drive.flush_and_unmount()\n",
        "  user_drive = None\n",
        "\n",
        "print(f'Using google drive : {bool(user_drive)}')"
      ],
      "metadata": {
        "id": "l89LE3z7evbS",
        "outputId": "83429bdb-d0a0-48be-abcb-01f6b8944d3a",
        "colab": {
          "base_uri": "https://localhost:8080/"
        }
      },
      "execution_count": null,
      "outputs": [
        {
          "output_type": "stream",
          "name": "stdout",
          "text": [
            "Mounted at /content/drive\n",
            "\n",
            "Successfully connected to drive.\n",
            "\n",
            "Using google drive : True\n"
          ]
        }
      ]
    },
    {
      "cell_type": "code",
      "source": [
        "#@title Selecting your language(s) etc {display-mode: \"form\"}\n",
        "\n",
        "language_dict = {\n",
        "    \"Afrikaans\": \"af\", \"Arabic\": \"ar\", \"Armenian\": \"hy\", \"Azerbaijani\": \"az\",\n",
        "    \"Belarusian\": \"be\", \"Bosnian\": \"bs\", \"Bulgarian\": \"bg\", \"Catalan\": \"ca\",\n",
        "    \"Chinese\": \"zh\", \"Croatian\": \"hr\", \"Czech\": \"cs\", \"Danish\": \"da\",\n",
        "    \"Dutch\": \"nl\", \"English\": \"en\", \"Estonian\": \"et\", \"Finnish\": \"fi\",\n",
        "    \"French\": \"fr\", \"Galician\": \"gl\", \"German\": \"de\", \"Greek\": \"el\",\n",
        "    \"Hebrew\": \"he\", \"Hindi\": \"hi\", \"Hungarian\": \"hu\", \"Icelandic\": \"is\",\n",
        "    \"Indonesian\": \"id\", \"Italian\": \"it\", \"Japanese\": \"ja\", \"Kannada\": \"kn\",\n",
        "    \"Kazakh\": \"kk\", \"Korean\": \"ko\", \"Latvian\": \"lv\", \"Lithuanian\": \"lt\",\n",
        "    \"Macedonian\": \"mk\", \"Malay\": \"ms\", \"Marathi\": \"mr\", \"Maori\": \"mi\",\n",
        "    \"Nepali\": \"ne\", \"Norwegian\": \"no\", \"Persian\": \"fa\", \"Polish\": \"pl\",\n",
        "    \"Portuguese\": \"pt\", \"Romanian\": \"ro\", \"Russian\": \"ru\", \"Serbian\": \"sr\",\n",
        "    \"Slovak\": \"sk\", \"Slovenian\": \"sl\", \"Spanish\": \"es\", \"Swahili\": \"sw\",\n",
        "    \"Swedish\": \"sv\", \"Tagalog\": \"tl\", \"Tamil\": \"ta\", \"Thai\": \"th\",\n",
        "    \"Turkish\": \"tr\", \"Ukrainian\": \"uk\", \"Urdu\": \"ur\", \"Vietnamese\": \"vi\",\n",
        "    \"Welsh\": \"cy\"\n",
        "}\n",
        "\n",
        "language_1 = \"Auto-detect\" #@param [\"Auto-detect\", 'English', 'Spanish', 'French', 'Japanese', 'Afrikaans', 'Arabic', 'Armenian', 'Azerbaijani', 'Belarusian', 'Bosnian', 'Bulgarian', 'Catalan', 'Chinese', 'Croatian', 'Czech', 'Danish', 'Dutch', 'Estonian', 'Finnish', 'French', 'Galician', 'German', 'Greek', 'Hebrew', 'Hindi', 'Hungarian', 'Icelandic', 'Indonesian', 'Italian', 'Kannada', 'Kazakh', 'Korean', 'Latvian', 'Lithuanian', 'Macedonian', 'Malay', 'Marathi', 'Maori', 'Nepali', 'Norwegian', 'Persian', 'Polish', 'Portuguese', 'Romanian', 'Russian', 'Serbian', 'Slovak', 'Slovenian', 'Swahili', 'Swedish', 'Tagalog', 'Tamil', 'Thai', 'Turkish', 'Ukrainian', 'Urdu', 'Vietnamese', 'Welsh']\n",
        "language_2 = \"Optional\" #@param [\"Optional\", 'English', 'Spanish', 'French', 'Japanese', 'Afrikaans', 'Arabic', 'Armenian', 'Azerbaijani', 'Belarusian', 'Bosnian', 'Bulgarian', 'Catalan', 'Chinese', 'Croatian', 'Czech', 'Danish', 'Dutch', 'Estonian', 'Finnish', 'French', 'Galician', 'German', 'Greek', 'Hebrew', 'Hindi', 'Hungarian', 'Icelandic', 'Indonesian', 'Italian', 'Kannada', 'Kazakh', 'Korean', 'Latvian', 'Lithuanian', 'Macedonian', 'Malay', 'Marathi', 'Maori', 'Nepali', 'Norwegian', 'Persian', 'Polish', 'Portuguese', 'Romanian', 'Russian', 'Serbian', 'Slovak', 'Slovenian', 'Swahili', 'Swedish', 'Tagalog', 'Tamil', 'Thai', 'Turkish', 'Ukrainian', 'Urdu', 'Vietnamese', 'Welsh']\n",
        "model_size = 'large-v2' #@param ['tiny.en', 'tiny', 'base.en', 'base', 'small.en', 'small', 'medium.en', 'medium', 'large-v1', 'large-v2', 'large']\n",
        "\n",
        "langs = [None, None]\n",
        "\n",
        "if language_1 != \"Auto-detect\":\n",
        "  langs[0] = language_dict[language_1]\n",
        "if language_2 != \"Optional\":\n",
        "  langs[1] = language_dict[language_2]\n",
        "\n",
        "langs = [lang for lang in langs if lang]\n",
        "\n",
        "print(f'langs : {langs}')\n",
        "print(f'model_size : {model_size}')\n",
        "\n",
        "\n",
        "\n"
      ],
      "metadata": {
        "id": "oLNsxLcyfBgX",
        "outputId": "9df21930-ee97-4e08-d2b7-f6748c3ec08b",
        "colab": {
          "base_uri": "https://localhost:8080/"
        }
      },
      "execution_count": null,
      "outputs": [
        {
          "output_type": "stream",
          "name": "stdout",
          "text": [
            "langs : ['fr', 'hr']\n",
            "model_size : large-v2\n"
          ]
        }
      ]
    },
    {
      "cell_type": "code",
      "source": [
        "#@title Selecting your language(s) and other options {display-mode: \"form\"}\n",
        "\n",
        "import os\n",
        "from google.colab import drive, files, output\n",
        "\n",
        "language_dict = {\n",
        "    \"Afrikaans\": \"af\", \"Arabic\": \"ar\", \"Armenian\": \"hy\", \"Azerbaijani\": \"az\",\n",
        "    \"Belarusian\": \"be\", \"Bosnian\": \"bs\", \"Bulgarian\": \"bg\", \"Catalan\": \"ca\",\n",
        "    \"Chinese\": \"zh\", \"Croatian\": \"hr\", \"Czech\": \"cs\", \"Danish\": \"da\",\n",
        "    \"Dutch\": \"nl\", \"English\": \"en\", \"Estonian\": \"et\", \"Finnish\": \"fi\",\n",
        "    \"French\": \"fr\", \"Galician\": \"gl\", \"German\": \"de\", \"Greek\": \"el\",\n",
        "    \"Hebrew\": \"he\", \"Hindi\": \"hi\", \"Hungarian\": \"hu\", \"Icelandic\": \"is\",\n",
        "    \"Indonesian\": \"id\", \"Italian\": \"it\", \"Japanese\": \"ja\", \"Kannada\": \"kn\",\n",
        "    \"Kazakh\": \"kk\", \"Korean\": \"ko\", \"Latvian\": \"lv\", \"Lithuanian\": \"lt\",\n",
        "    \"Macedonian\": \"mk\", \"Malay\": \"ms\", \"Marathi\": \"mr\", \"Maori\": \"mi\",\n",
        "    \"Nepali\": \"ne\", \"Norwegian\": \"no\", \"Persian\": \"fa\", \"Polish\": \"pl\",\n",
        "    \"Portuguese\": \"pt\", \"Romanian\": \"ro\", \"Russian\": \"ru\", \"Serbian\": \"sr\",\n",
        "    \"Slovak\": \"sk\", \"Slovenian\": \"sl\", \"Spanish\": \"es\", \"Swahili\": \"sw\",\n",
        "    \"Swedish\": \"sv\", \"Tagalog\": \"tl\", \"Tamil\": \"ta\", \"Thai\": \"th\",\n",
        "    \"Turkish\": \"tr\", \"Ukrainian\": \"uk\", \"Urdu\": \"ur\", \"Vietnamese\": \"vi\",\n",
        "    \"Welsh\": \"cy\"\n",
        "}\n",
        "\n",
        "language_1 = \"Auto-detect\" #@param [\"Auto-detect\", 'English', 'Spanish', 'French', 'Japanese', 'Afrikaans', 'Arabic', 'Armenian', 'Azerbaijani', 'Belarusian', 'Bosnian', 'Bulgarian', 'Catalan', 'Chinese', 'Croatian', 'Czech', 'Danish', 'Dutch', 'Estonian', 'Finnish', 'French', 'Galician', 'German', 'Greek', 'Hebrew', 'Hindi', 'Hungarian', 'Icelandic', 'Indonesian', 'Italian', 'Kannada', 'Kazakh', 'Korean', 'Latvian', 'Lithuanian', 'Macedonian', 'Malay', 'Marathi', 'Maori', 'Nepali', 'Norwegian', 'Persian', 'Polish', 'Portuguese', 'Romanian', 'Russian', 'Serbian', 'Slovak', 'Slovenian', 'Swahili', 'Swedish', 'Tagalog', 'Tamil', 'Thai', 'Turkish', 'Ukrainian', 'Urdu', 'Vietnamese', 'Welsh']\n",
        "language_2 = \"Optional\" #@param [\"Optional\", 'English', 'Spanish', 'French', 'Japanese', 'Afrikaans', 'Arabic', 'Armenian', 'Azerbaijani', 'Belarusian', 'Bosnian', 'Bulgarian', 'Catalan', 'Chinese', 'Croatian', 'Czech', 'Danish', 'Dutch', 'Estonian', 'Finnish', 'French', 'Galician', 'German', 'Greek', 'Hebrew', 'Hindi', 'Hungarian', 'Icelandic', 'Indonesian', 'Italian', 'Kannada', 'Kazakh', 'Korean', 'Latvian', 'Lithuanian', 'Macedonian', 'Malay', 'Marathi', 'Maori', 'Nepali', 'Norwegian', 'Persian', 'Polish', 'Portuguese', 'Romanian', 'Russian', 'Serbian', 'Slovak', 'Slovenian', 'Swahili', 'Swedish', 'Tagalog', 'Tamil', 'Thai', 'Turkish', 'Ukrainian', 'Urdu', 'Vietnamese', 'Welsh']\n",
        "model_size = 'large-v2' #@param ['tiny.en', 'tiny', 'base.en', 'base', 'small.en', 'small', 'medium.en', 'medium', 'large-v1', 'large-v2', 'large']\n",
        "\n",
        "langs = [None, None]\n",
        "\n",
        "if language_1 != \"Auto-detect\":\n",
        "  langs[0] = language_dict[language_1]\n",
        "if language_2 != \"Optional\":\n",
        "  langs[1] = language_dict[language_2]\n",
        "\n",
        "langs = [lang for lang in langs if lang]\n",
        "\n",
        "print(f'langs : {langs}')\n",
        "print(f'model_size : {model_size}')\n",
        "\n",
        "Save_to_drive = False #@param {type: \"boolean\"}\n",
        "Uploading_from_drive = True #@param {type: \"boolean\"}\n",
        "path_to_file = \"\" #@param {type:\"string\"}\n",
        "Use_test_audio = False #@param {type: \"boolean\"}\n",
        "\n",
        "if Save_to_drive or Uploading_from_drive:\n",
        "  try:\n",
        "    drive.mount('/content/drive')\n",
        "    user_drive = '/content/drive'\n",
        "    print(f'\\nSuccessfully connected to drive.\\n')\n",
        "  except:\n",
        "    user_drive = None\n",
        "    print(f'\\nNot using google drive.\\n')\n",
        "else:\n",
        "  drive.flush_and_unmount()\n",
        "  user_drive = None\n",
        "\n",
        "print(f'Using google drive : {bool(user_drive)}')"
      ],
      "metadata": {
        "id": "mxbEC5d1GIIz"
      },
      "execution_count": null,
      "outputs": []
    }
  ],
  "metadata": {
    "kernelspec": {
      "display_name": "Python 3",
      "language": "python",
      "name": "python3"
    },
    "language_info": {
      "codemirror_mode": {
        "name": "ipython",
        "version": 3
      },
      "file_extension": ".py",
      "mimetype": "text/x-python",
      "name": "python",
      "nbconvert_exporter": "python",
      "pygments_lexer": "ipython3",
      "version": "3.8.5"
    },
    "orig_nbformat": 4,
    "colab": {
      "provenance": [],
      "include_colab_link": true
    },
    "gpuClass": "standard"
  },
  "nbformat": 4,
  "nbformat_minor": 0
}